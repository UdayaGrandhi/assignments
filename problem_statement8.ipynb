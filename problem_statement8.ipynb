{
  "nbformat": 4,
  "nbformat_minor": 0,
  "metadata": {
    "colab": {
      "provenance": [],
      "authorship_tag": "ABX9TyNqsex/HCejpQmbYLrJKXS4",
      "include_colab_link": true
    },
    "kernelspec": {
      "name": "python3",
      "display_name": "Python 3"
    },
    "language_info": {
      "name": "python"
    }
  },
  "cells": [
    {
      "cell_type": "markdown",
      "metadata": {
        "id": "view-in-github",
        "colab_type": "text"
      },
      "source": [
        "<a href=\"https://colab.research.google.com/github/UdayaGrandhi/assignments/blob/main/problem_statement8.ipynb\" target=\"_parent\"><img src=\"https://colab.research.google.com/assets/colab-badge.svg\" alt=\"Open In Colab\"/></a>"
      ]
    },
    {
      "cell_type": "markdown",
      "source": [
        "#problem_statement8\n",
        "implement the complete Student class by completing the tasks below\n",
        "\n",
        "Task\n",
        "\n",
        " Implement the following properties as private:\n",
        "\n",
        "• name\n",
        "• rollNumber\n",
        " Include the following methods to get and set the private properties above:\n",
        "\n",
        "• getName()\n",
        "• setName()\n",
        "• getRollNumber()\n",
        "• setRollNumber()\n",
        "Implement this class according to the rules of encapsulation.\n",
        "\n",
        "Input - Checking all the properties and methods\n",
        "\n",
        "Output - Expecting perfectly defined fields and getter/setters\n",
        "\n",
        "Note: Do not use initializers to initialize the properties. Use the set methods to do so.\n",
        "\n",
        "If the setter is not defined properly, the corresponding getter will also generate an error even if the getter is defined properly.\n",
        "\n",
        "Coding exercise\n",
        "\n",
        "class Student:\n",
        "\n",
        "    def setName(self):\n",
        "        pass\n",
        "    def getName(self):\n",
        "        pass\n",
        "    def setRollNumber(self):\n",
        "        pass\n",
        "    def getRollNumber(self):\n",
        "        pass"
      ],
      "metadata": {
        "id": "_kNQqUIEsy4M"
      }
    },
    {
      "cell_type": "code",
      "execution_count": 4,
      "metadata": {
        "colab": {
          "base_uri": "https://localhost:8080/"
        },
        "id": "RN_63xFQsjgm",
        "outputId": "437f7258-4fd0-476d-c5ac-87781f855f2d"
      },
      "outputs": [
        {
          "output_type": "stream",
          "name": "stdout",
          "text": [
            "Name: udaya\n",
            "Roll Number: EC0414\n",
            "Name: bhaskar\n",
            "Roll Number: EC007\n"
          ]
        }
      ],
      "source": [
        "class Student:\n",
        "    def __init__(self):\n",
        "        self.name = None\n",
        "        self.rollNumber = None\n",
        "    def getName(self):\n",
        "        return self.name\n",
        "    def setName(self, name):\n",
        "        self.name = name\n",
        "    def getRollNumber(self):\n",
        "        return self.rollNumber\n",
        "    def setRollNumber(self, rollNumber):\n",
        "        self.rollNumber = rollNumber\n",
        "\n",
        "student = Student()\n",
        "student.setName(\"udaya\")\n",
        "print(\"Name:\", student.getName())\n",
        "student.setRollNumber(\"EC0414\")\n",
        "print(\"Roll Number:\", student.getRollNumber())\n",
        "student.setName(\"bhaskar\")\n",
        "print(\"Name:\", student.getName())\n",
        "student.setRollNumber(\"EC007\")\n",
        "print(\"Roll Number:\", student.getRollNumber())"
      ]
    }
  ]
}