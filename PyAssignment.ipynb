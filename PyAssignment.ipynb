{
  "nbformat": 4,
  "nbformat_minor": 0,
  "metadata": {
    "colab": {
      "provenance": [],
      "authorship_tag": "ABX9TyMh410J/JliiOYaxK7Loiw1",
      "include_colab_link": true
    },
    "kernelspec": {
      "name": "python3",
      "display_name": "Python 3"
    },
    "language_info": {
      "name": "python"
    }
  },
  "cells": [
    {
      "cell_type": "markdown",
      "metadata": {
        "id": "view-in-github",
        "colab_type": "text"
      },
      "source": [
        "<a href=\"https://colab.research.google.com/github/UdayaGrandhi/assignments/blob/main/PyAssignment.ipynb\" target=\"_parent\"><img src=\"https://colab.research.google.com/assets/colab-badge.svg\" alt=\"Open In Colab\"/></a>"
      ]
    },
    {
      "cell_type": "markdown",
      "source": [
        "#Problem Statement - 1\n",
        "Write a program that computes the net amount of a bank account based on a transaction log from console input. The transaction log / sample input is in the format as shown below:\n",
        "\n",
        "\n",
        "\n",
        "Input\n",
        "\n",
        "log_message = D:100 W:10\n",
        "\n",
        "Output\n",
        "\n",
        "90\n",
        "\n",
        "Input\n",
        "\n",
        "Log_message = D:100 W:200 D:400\n",
        "\n",
        "Output\n",
        "\n",
        "300 (100 - 200 + 400 = 300)\n"
      ],
      "metadata": {
        "id": "gIRMRMMpDfrb"
      }
    },
    {
      "cell_type": "code",
      "execution_count": 53,
      "metadata": {
        "colab": {
          "base_uri": "https://localhost:8080/"
        },
        "id": "bNY4bkOw3nU_",
        "outputId": "4bb8e0da-8fef-46c9-d257-cb0297764d31"
      },
      "outputs": [
        {
          "output_type": "stream",
          "name": "stdout",
          "text": [
            "enter transaction log_message\n",
            " \n",
            "0\n"
          ]
        }
      ],
      "source": [
        "def net_amount(log_message):\n",
        "\n",
        "  if not log_message :\n",
        "        return \"invalid transation log message enter a valid one\"\n",
        "  else:\n",
        "    total_balance=0\n",
        "    transactions = log_message.split()\n",
        "    for t in transactions:\n",
        "        if t[0] == 'D':\n",
        "            total_balance += int(t[2:])\n",
        "        elif t[0] == 'W':\n",
        "            total_balance -= int(t[2:])\n",
        "    return total_balance\n",
        "print(\"enter transaction log_message\")\n",
        "log_message=input()\n",
        "result=net_amount(log_message)\n",
        "print(result)"
      ]
    }
  ]
}