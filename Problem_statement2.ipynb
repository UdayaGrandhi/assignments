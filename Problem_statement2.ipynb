{
  "nbformat": 4,
  "nbformat_minor": 0,
  "metadata": {
    "colab": {
      "provenance": [],
      "authorship_tag": "ABX9TyMwryJ9/iVFY8Jmgdq/qWt9",
      "include_colab_link": true
    },
    "kernelspec": {
      "name": "python3",
      "display_name": "Python 3"
    },
    "language_info": {
      "name": "python"
    }
  },
  "cells": [
    {
      "cell_type": "markdown",
      "metadata": {
        "id": "view-in-github",
        "colab_type": "text"
      },
      "source": [
        "<a href=\"https://colab.research.google.com/github/UdayaGrandhi/assignments/blob/main/Problem_statement2.ipynb\" target=\"_parent\"><img src=\"https://colab.research.google.com/assets/colab-badge.svg\" alt=\"Open In Colab\"/></a>"
      ]
    },
    {
      "cell_type": "markdown",
      "source": [
        "#Problem statement 2\n",
        "Write a program that prompts the user to input number of calls and calculate the monthly telephone bills as per the following rule:\n",
        "\n",
        "\n",
        "\n",
        "● Minimum Rs. 200 for up to 100 calls.\n",
        "\n",
        "● Plus Rs. 0.60 per call for next 50 calls.\n",
        "\n",
        "● Plus Rs. 0.50 per call for next 50 calls.\n",
        "\n",
        "● Plus Rs. 0.40 per call for any call beyond 200 calls.\n",
        "\n"
      ],
      "metadata": {
        "id": "WexgO1x3iWak"
      }
    },
    {
      "cell_type": "code",
      "execution_count": 3,
      "metadata": {
        "colab": {
          "base_uri": "https://localhost:8080/"
        },
        "id": "y6oKfdCEiULD",
        "outputId": "15f23830-de21-4480-84a3-e6f747290611"
      },
      "outputs": [
        {
          "output_type": "stream",
          "name": "stdout",
          "text": [
            "0\n",
            "200\n"
          ]
        }
      ],
      "source": [
        "def bill(num_calls):\n",
        "    base_charges = 200\n",
        "    charge_slab_1 = 0.60\n",
        "    charge_slab_2 = 0.50\n",
        "    charge_slab_3 = 0.40\n",
        "    if num_calls <= 100:\n",
        "        total_bill = base_charges\n",
        "    elif num_calls <= 150:\n",
        "        total_bill = base_charges + (num_calls - 100) * charge_slab_1\n",
        "    elif num_calls <= 200:\n",
        "        total_bill = base_charges + 50 * charge_slab_1 + (num_calls - 150) * charge_slab_2\n",
        "    else:\n",
        "        total_bill = base_charges + 50 * charge_slab_1 + 50 * charge_slab_2 + (num_calls - 200) * charge_slab_3\n",
        "    return total_bill\n",
        "\n",
        "num_calls=int(input())\n",
        "final_bill=bill(num_calls)\n",
        "print(final_bill)"
      ]
    }
  ]
}