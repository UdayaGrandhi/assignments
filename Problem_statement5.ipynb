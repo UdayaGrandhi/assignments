{
  "nbformat": 4,
  "nbformat_minor": 0,
  "metadata": {
    "colab": {
      "provenance": [],
      "authorship_tag": "ABX9TyMbb0epuaAwAeL0sSWfxsrD",
      "include_colab_link": true
    },
    "kernelspec": {
      "name": "python3",
      "display_name": "Python 3"
    },
    "language_info": {
      "name": "python"
    }
  },
  "cells": [
    {
      "cell_type": "markdown",
      "metadata": {
        "id": "view-in-github",
        "colab_type": "text"
      },
      "source": [
        "<a href=\"https://colab.research.google.com/github/UdayaGrandhi/assignments/blob/main/Problem_statement5.ipynb\" target=\"_parent\"><img src=\"https://colab.research.google.com/assets/colab-badge.svg\" alt=\"Open In Colab\"/></a>"
      ]
    },
    {
      "cell_type": "markdown",
      "source": [
        "#problem_statement5\n",
        "\n",
        "Write a Python function that accepts a string and calculates the number of uppercase letters and lower case letters.\n",
        "\n",
        "\n",
        "\n",
        "Sample String : 'The quick Brow Fox'\n",
        "\n",
        "Expected Output :\n",
        "\n",
        "No. of Upper case characters : 3\n",
        "\n",
        "No. of Lower case Characters : 12"
      ],
      "metadata": {
        "id": "fDmXkGayi7lI"
      }
    },
    {
      "cell_type": "code",
      "execution_count": 9,
      "metadata": {
        "colab": {
          "base_uri": "https://localhost:8080/"
        },
        "id": "eOSM0eHUeor4",
        "outputId": "2af33582-9364-41c9-8dda-05b87fa97705"
      },
      "outputs": [
        {
          "output_type": "stream",
          "name": "stdout",
          "text": [
            "enter a stringABHCLIDKOPS2\n",
            "no of upper case letters in a given string: 11\n",
            "no of lower case letters in a given string: 0\n"
          ]
        }
      ],
      "source": [
        "def calculate_up_low_case(input_string):\n",
        " uppercase=0\n",
        " lowercase=0\n",
        " for i in input_string:\n",
        "  if i.isupper():\n",
        "    uppercase+=1\n",
        "  elif i.islower():\n",
        "    lowercase+=1\n",
        " return uppercase,lowercase\n",
        "\n",
        "input_string=input(\"enter a string\")\n",
        "uppercase,lowercase=calculate_up_low_case(input_string)\n",
        "print(f\"no of upper case letters in a given string: {uppercase}\")\n",
        "print(f\"no of lower case letters in a given string: {lowercase}\")\n"
      ]
    }
  ]
}