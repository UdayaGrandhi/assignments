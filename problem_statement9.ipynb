{
  "nbformat": 4,
  "nbformat_minor": 0,
  "metadata": {
    "colab": {
      "provenance": [],
      "authorship_tag": "ABX9TyONlxO14HsVNCmyRTLmfC64",
      "include_colab_link": true
    },
    "kernelspec": {
      "name": "python3",
      "display_name": "Python 3"
    },
    "language_info": {
      "name": "python"
    }
  },
  "cells": [
    {
      "cell_type": "markdown",
      "metadata": {
        "id": "view-in-github",
        "colab_type": "text"
      },
      "source": [
        "<a href=\"https://colab.research.google.com/github/UdayaGrandhi/assignments/blob/main/problem_statement9.ipynb\" target=\"_parent\"><img src=\"https://colab.research.google.com/assets/colab-badge.svg\" alt=\"Open In Colab\"/></a>"
      ]
    },
    {
      "cell_type": "markdown",
      "source": [
        "#problem_statement9\n",
        "🔴 In this challenge, you will implement a banking account using the concepts of inheritance.\n",
        "Problem statement\n",
        "\n",
        "Implement the basic structure of a parent class, Account, and a child class, SavingsAccount.\n",
        "\n",
        "Task 1\n",
        "\n",
        "👉 Implement properties as instance variables, and set them to None or 0.\n",
        "\n",
        "Account has the following properties:\n",
        "\n",
        "    • title\n",
        "    • Balance\n",
        "SavingsAccount has the following properties:\n",
        "\n",
        "    • interestRate\n",
        "Task 2\n",
        "\n",
        "Create an initializer for Account class. The order of parameters should be the following, where Ashish is the title, and 5000 is the account balance:\n",
        "\n",
        "Account(\"Ashish\", 5000)\n",
        "\n",
        "Task 3\n",
        "\n",
        "Implement properties as instance variables, and set them to None or 0.\n",
        "\n",
        "Create an initializer for the SavingsAccount class using the initializer of the Account class in the order below:\n",
        "\n",
        "Account(\"Ashish\", 5000, 5)\n",
        "\n",
        "Here, Ashish is the title and 5000 is the balance and 5 is the interestRate.\n",
        "\n",
        "class Account:\n",
        "\n",
        "    def __init__(self):\n",
        "        # write your code here\n",
        "        pass\n",
        "\n",
        "class SavingsAccount():\n",
        "\n",
        "    def __init__(self):\n",
        "        # write your code here\n",
        "        Pass"
      ],
      "metadata": {
        "id": "jSluTdICvw_J"
      }
    },
    {
      "cell_type": "code",
      "execution_count": 2,
      "metadata": {
        "colab": {
          "base_uri": "https://localhost:8080/"
        },
        "id": "T3t3h-bwvrrF",
        "outputId": "8e572b20-272f-4adc-8a8d-8a99bf4f98ad"
      },
      "outputs": [
        {
          "output_type": "stream",
          "name": "stdout",
          "text": [
            "Ashish\n",
            "500\n",
            "5\n"
          ]
        }
      ],
      "source": [
        "class Account:\n",
        "    def __init__(self, title, balance):\n",
        "        self.title = title\n",
        "        self.balance = balance\n",
        "\n",
        "class SavingsAccount(Account):\n",
        "    def __init__(self, title, balance, interestRate):\n",
        "        super().__init__(title, balance)\n",
        "        self.interestRate = interestRate\n",
        "\n",
        "Account = Account(\"Ashish\", 500)\n",
        "savingsAccount = SavingsAccount(\"Ashish\", 5000, 5)\n",
        "print(Account.title)\n",
        "print(Account.balance)\n",
        "print(savingsAccount.interestRate)"
      ]
    }
  ]
}