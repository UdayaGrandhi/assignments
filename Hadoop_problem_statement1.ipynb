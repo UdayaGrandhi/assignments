{
  "nbformat": 4,
  "nbformat_minor": 0,
  "metadata": {
    "colab": {
      "provenance": [],
      "authorship_tag": "ABX9TyOC3xTI2Q8dNOLksG8l/aDA",
      "include_colab_link": true
    },
    "kernelspec": {
      "name": "python3",
      "display_name": "Python 3"
    },
    "language_info": {
      "name": "python"
    }
  },
  "cells": [
    {
      "cell_type": "markdown",
      "metadata": {
        "id": "view-in-github",
        "colab_type": "text"
      },
      "source": [
        "<a href=\"https://colab.research.google.com/github/UdayaGrandhi/assignments/blob/main/Hadoop_problem_statement1.ipynb\" target=\"_parent\"><img src=\"https://colab.research.google.com/assets/colab-badge.svg\" alt=\"Open In Colab\"/></a>"
      ]
    },
    {
      "cell_type": "markdown",
      "source": [
        "#problem_statement1\n",
        "\n",
        "* Create a folder in HDFS by name “dir01” and move input1.txt , input2.txt and input3.txt into\n",
        "/dir01.\n",
        "\n"
      ],
      "metadata": {
        "id": "tfKJCI4lgY48"
      }
    },
    {
      "cell_type": "code",
      "execution_count": null,
      "metadata": {
        "id": "Vu7gY5m9gTGa"
      },
      "outputs": [],
      "source": [
        "hdfs dfs -mkdir /user/$USER/dir01\n",
        "touch input1.txt input2.txt input3.txt\n",
        "hdfs dfs -put input1.txt input2.txt input3.txt /user/$USER/dir01"
      ]
    },
    {
      "cell_type": "markdown",
      "source": [
        "* List only the file names present in “/dir01”"
      ],
      "metadata": {
        "id": "JH-m8qzihD0M"
      }
    },
    {
      "cell_type": "code",
      "source": [
        "hdfs dfs -ls /user/$USER/dir01"
      ],
      "metadata": {
        "id": "xgfWNyQ5hILI"
      },
      "execution_count": null,
      "outputs": []
    },
    {
      "cell_type": "markdown",
      "source": [
        "* Change the replication factor for the content present in directory “/dir01” to 5 and display\n",
        "the replication factor for the files present in “/dir01”.\n"
      ],
      "metadata": {
        "id": "UEW1i6pCiDGr"
      }
    },
    {
      "cell_type": "code",
      "source": [
        "hdfs dfs -setrep 5 /user/$user/dir01"
      ],
      "metadata": {
        "id": "cUECTnpriI3q"
      },
      "execution_count": null,
      "outputs": []
    },
    {
      "cell_type": "markdown",
      "source": [
        "* Create a folder in HDFS by name “scenario01” and create directory “level01” inside\n",
        "“scenario01” directory and create another directory “level02” inside directory “level01”.\n",
        "Once the required directories are created copy input1.txt to scenario01, input2.txt to level01\n",
        "and input3.txt to level02 and finally recursively print only the file names present in\n",
        "directory scenario01"
      ],
      "metadata": {
        "id": "yEWmLr0iieco"
      }
    },
    {
      "cell_type": "code",
      "source": [
        "hdfs dfs -mkdir /user/$USER/scenario01\n",
        "hdfs dfs -mkdir /user/$USER/scenario01/level01\n",
        "hdfs dfs -mkdir /user/$USER/scenario01/level01/level02\n",
        "\n",
        "hdfs dfs -put input1.txt /user/$USER/scenario01\n",
        "hdfs dfs -put input2.txt /user/$USER/scenario01/level01\n",
        "hdfs dfs -put input2.txt /user/$USER/scenario01/level01/level02\n",
        "\n",
        "hdfs dfs -ls -R /user/$USER/scenario01"
      ],
      "metadata": {
        "id": "NE2Q0po6ijQ4"
      },
      "execution_count": null,
      "outputs": []
    }
  ]
}