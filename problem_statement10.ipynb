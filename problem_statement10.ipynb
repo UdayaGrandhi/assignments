{
  "nbformat": 4,
  "nbformat_minor": 0,
  "metadata": {
    "colab": {
      "provenance": [],
      "authorship_tag": "ABX9TyMQrt8M4eJswcfoBQ4JV/D4",
      "include_colab_link": true
    },
    "kernelspec": {
      "name": "python3",
      "display_name": "Python 3"
    },
    "language_info": {
      "name": "python"
    }
  },
  "cells": [
    {
      "cell_type": "markdown",
      "metadata": {
        "id": "view-in-github",
        "colab_type": "text"
      },
      "source": [
        "<a href=\"https://colab.research.google.com/github/UdayaGrandhi/assignments/blob/main/problem_statement10.ipynb\" target=\"_parent\"><img src=\"https://colab.research.google.com/assets/colab-badge.svg\" alt=\"Open In Colab\"/></a>"
      ]
    },
    {
      "cell_type": "markdown",
      "source": [
        "#problem_statement10\n",
        "\n",
        "Coding exercise\n",
        "\n",
        "Note: A new SavingsClass object is initialized at the end of the code and test results will be based on it.\n",
        "\n",
        "class Account:\n",
        "    def __init__(self, title=None, balance=0):\n",
        "        self.title = title\n",
        "        self.balance = balance\n",
        "    \n",
        "    def withdrawal(self, amount):\n",
        "        # write code here\n",
        "        pass\n",
        "\n",
        "    def deposit(self, amount):\n",
        "        # write code here\n",
        "        pass\n",
        "    def getBalance(self):\n",
        "        # write code here\n",
        "        pass\n",
        "\n",
        "class SavingsAccount(Account):\n",
        "    def __init__(self, title=None, balance=0, interestRate=0):\n",
        "            super().__init__(title, balance)\n",
        "            self.interestRate = interestRate\n",
        "    \n",
        "    def interestAmount(self):\n",
        "        # write code here\n",
        "        pass\n",
        "\n",
        "#code to test - do not edit this\n",
        "\n",
        "demo1 = SavingsAccount(\"Ashish\", 2000, 5)   # initializing a SavingsAccount object"
      ],
      "metadata": {
        "id": "KN_CZZqdwyEA"
      }
    },
    {
      "cell_type": "code",
      "execution_count": 26,
      "metadata": {
        "colab": {
          "base_uri": "https://localhost:8080/"
        },
        "id": "Ht6gTYfewuB_",
        "outputId": "c234925e-6b51-4856-cf7f-92b493b91e6b"
      },
      "outputs": [
        {
          "output_type": "stream",
          "name": "stdout",
          "text": [
            "2100\n",
            "2000\n",
            "100.0\n"
          ]
        }
      ],
      "source": [
        "class Account:\n",
        "    def __init__(self, balance=0, title=None):\n",
        "        self.title = title\n",
        "        self.balance = int(balance)\n",
        "    def getbalance(self):\n",
        "        print(self.balance)\n",
        "    def withdraw(self, amount):\n",
        "        amount = int(amount)\n",
        "        if self.balance >= amount:\n",
        "            self.balance -= amount\n",
        "        else:\n",
        "            return None\n",
        "    def deposit(self, amount):\n",
        "        amount = int(amount)\n",
        "        self.balance += amount\n",
        "class SavingsAccount(Account):\n",
        "    def __init__(self, balance=0, title=None, interestRate=0):\n",
        "        super().__init__(balance, title)\n",
        "        self.interestRate = int(interestRate)\n",
        "\n",
        "    def interestAmount(self):\n",
        "        interest_amount = (self.interestRate * self.balance) / 100\n",
        "        return interest_amount\n",
        "\n",
        "s = SavingsAccount(2000, \"Ashish\", 5)\n",
        "s.deposit(100)\n",
        "s.getbalance()\n",
        "\n",
        "s.withdraw(100)\n",
        "s.getbalance()\n",
        "\n",
        "interest = s.interestAmount()\n",
        "print(interest)"
      ]
    }
  ]
}