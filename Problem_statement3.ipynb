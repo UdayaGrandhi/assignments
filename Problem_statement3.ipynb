{
  "nbformat": 4,
  "nbformat_minor": 0,
  "metadata": {
    "colab": {
      "provenance": [],
      "authorship_tag": "ABX9TyNUj+pNGhgxUubZSahsr1ih",
      "include_colab_link": true
    },
    "kernelspec": {
      "name": "python3",
      "display_name": "Python 3"
    },
    "language_info": {
      "name": "python"
    }
  },
  "cells": [
    {
      "cell_type": "markdown",
      "metadata": {
        "id": "view-in-github",
        "colab_type": "text"
      },
      "source": [
        "<a href=\"https://colab.research.google.com/github/UdayaGrandhi/assignments/blob/main/Problem_statement3.ipynb\" target=\"_parent\"><img src=\"https://colab.research.google.com/assets/colab-badge.svg\" alt=\"Open In Colab\"/></a>"
      ]
    },
    {
      "cell_type": "markdown",
      "source": [
        "#problem statement 3\n",
        "Write a Python function to sum all the numbers in a list.\n",
        "\n",
        "\n",
        "\n",
        "Sample List : [8, 2, 3, 0, 7]\n",
        "\n",
        "Expected Output : 20\n",
        "\n",
        "Explanation:\n",
        "\n",
        "Summation should like 8+2+3+0+7 = 20"
      ],
      "metadata": {
        "id": "oCCjLszKmM-i"
      }
    },
    {
      "cell_type": "code",
      "execution_count": 2,
      "metadata": {
        "colab": {
          "base_uri": "https://localhost:8080/"
        },
        "id": "3KYM3-XomD3n",
        "outputId": "7ef9471e-3a12-426f-d3c0-7e9280dc50ba"
      },
      "outputs": [
        {
          "output_type": "stream",
          "name": "stdout",
          "text": [
            "20\n"
          ]
        }
      ],
      "source": [
        "simple_list=[8,2,3,0,7]\n",
        "total=0\n",
        "for l in simple_list:\n",
        "  total+=l\n",
        "print(total)"
      ]
    },
    {
      "cell_type": "code",
      "source": [
        "def addition(simple_list):\n",
        "    total = 0\n",
        "    if simple_list is None:\n",
        "        print(\"Enter a valid list of numbers.\")\n",
        "    else:\n",
        "        for l in simple_list:\n",
        "            total += l\n",
        "    return total\n",
        "\n",
        "simple_list = list(map(int, input(\"Enter a list of numbers separated by spaces: \").split()))\n",
        "\n",
        "print(f\"entered list is:\",simple_list)\n",
        "\n",
        "summ = addition(simple_list)\n",
        "print(summ)"
      ],
      "metadata": {
        "colab": {
          "base_uri": "https://localhost:8080/"
        },
        "id": "5XkwM-9TskjK",
        "outputId": "7955e061-ac3d-471f-c654-cec0e28631eb"
      },
      "execution_count": 17,
      "outputs": [
        {
          "output_type": "stream",
          "name": "stdout",
          "text": [
            "Enter a list of numbers separated by spaces: 1 2 3\n",
            "entered list: [1, 2, 3]\n",
            "6\n"
          ]
        }
      ]
    },
    {
      "cell_type": "code",
      "source": [
        "lst=input().split()\n",
        "print(f\"entered list of numbers :\",lst)\n",
        "print(sum(map(int,lst)))\n"
      ],
      "metadata": {
        "colab": {
          "base_uri": "https://localhost:8080/"
        },
        "id": "iR_NoljGtb2f",
        "outputId": "49ac0a71-4f19-456c-cbf5-a31752930a47"
      },
      "execution_count": 24,
      "outputs": [
        {
          "output_type": "stream",
          "name": "stdout",
          "text": [
            "1 2 3 4\n",
            "input list of numbers is : ['1', '2', '3', '4']\n",
            "10\n"
          ]
        }
      ]
    }
  ]
}