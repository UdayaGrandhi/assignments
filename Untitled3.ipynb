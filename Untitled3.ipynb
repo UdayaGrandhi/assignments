{
  "nbformat": 4,
  "nbformat_minor": 0,
  "metadata": {
    "colab": {
      "provenance": [],
      "authorship_tag": "ABX9TyPIhaqSl1QhdcQnKTbH7dg1",
      "include_colab_link": true
    },
    "kernelspec": {
      "name": "python3",
      "display_name": "Python 3"
    },
    "language_info": {
      "name": "python"
    }
  },
  "cells": [
    {
      "cell_type": "markdown",
      "metadata": {
        "id": "view-in-github",
        "colab_type": "text"
      },
      "source": [
        "<a href=\"https://colab.research.google.com/github/UdayaGrandhi/assignments/blob/main/Untitled3.ipynb\" target=\"_parent\"><img src=\"https://colab.research.google.com/assets/colab-badge.svg\" alt=\"Open In Colab\"/></a>"
      ]
    },
    {
      "cell_type": "markdown",
      "source": [
        "#Problem_statement 7\n",
        "\n",
        "In this challenge, you need to implement a method that squares passing variables and returns their sum.\n",
        "\n",
        "Problem statement: Implement a class Point that has three properties and a method. All these attributes (properties and methods) should be public. This problem can be broken down into two tasks:\n",
        "\n",
        "Task 1: 👉 Implement a constructor to initialize the values of three properties: x, y, and z.\n",
        "\n",
        "Task 2: 👉 Implement a method, sqSum(), in the Point class which squares x, y, and z and returns their sum."
      ],
      "metadata": {
        "id": "fAJODH6hlp1d"
      }
    },
    {
      "cell_type": "code",
      "execution_count": 5,
      "metadata": {
        "colab": {
          "base_uri": "https://localhost:8080/"
        },
        "id": "P3JfxWmylYZx",
        "outputId": "f2eef248-accc-473e-bee3-e9f779a1148b"
      },
      "outputs": [
        {
          "output_type": "stream",
          "name": "stdout",
          "text": [
            "enter x value :10\n",
            "enter y value :20\n",
            "enter z value :30\n",
            "Sum of squares: 1400\n"
          ]
        }
      ],
      "source": [
        "class Point:\n",
        "    def __init__(self, x, y, z):\n",
        "        self.x = x\n",
        "        self.y = y\n",
        "        self.z = z\n",
        "\n",
        "    def sqSum(self):\n",
        "        return self.x ** 2 + self.y ** 2 + self.z ** 2\n",
        "\n",
        "x=int(input(\"enter x value :\"))\n",
        "y=int(input(\"enter y value :\"))\n",
        "z=int(input(\"enter z value :\"))\n",
        "point = Point(x,y,z)\n",
        "result = point.sqSum()\n",
        "print(\"Sum of squares:\", result)"
      ]
    }
  ]
}